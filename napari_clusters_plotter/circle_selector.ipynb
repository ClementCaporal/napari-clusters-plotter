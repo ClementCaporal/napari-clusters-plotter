{
 "cells": [
  {
   "cell_type": "markdown",
   "metadata": {},
   "source": [
    "# Multi-circle selection over plot"
   ]
  },
  {
   "cell_type": "code",
   "execution_count": 1,
   "metadata": {},
   "outputs": [],
   "source": [
    "%matplotlib qt\n",
    "\n",
    "import matplotlib.pyplot as plt\n",
    "import numpy as np\n",
    "\n",
    "from matplotlib.widgets import EllipseSelector, RectangleSelector\n",
    "import matplotlib.patches as patches\n",
    "from matplotlib.backend_bases import MouseButton\n",
    "from matplotlib.collections import PathCollection\n",
    "\n",
    "from nap_plot_tools import make_cat10_mod_cmap\n",
    "from matplotlib.colors import ListedColormap, Normalize\n",
    "from matplotlib.path import Path"
   ]
  },
  {
   "cell_type": "code",
   "execution_count": 2,
   "metadata": {},
   "outputs": [],
   "source": [
    "class AspectRatioEllipse(patches.Ellipse):\n",
    "    \"\"\"Class to handle fixed ellipse creation and properties with a crosshair.\"\"\"\n",
    "    \n",
    "    def __init__(self, ax, xy, width, color, color_idx, height2width_ratio = 0.5, **kwargs):\n",
    "        # Store color index\n",
    "        self.color_idx = color_idx\n",
    "        # Calculate height as a fixed proportion of the width\n",
    "        self.height2width_ratio = height2width_ratio\n",
    "        height = self.height2width_ratio * width\n",
    "        # Initialize the parent class\n",
    "        super().__init__(xy, width, height, **kwargs)\n",
    "        self.ax = ax\n",
    "        # Creates an array to store the mask of the points inside the ellipse (if scatter plot is present in the axes)\n",
    "        self._inside_mask_array = None\n",
    "        # Add a crosshair at the center\n",
    "        self.center_crosshair = ax.scatter(*xy, color=color, marker='+', label='crosshair')\n",
    "        ax.add_patch(self)\n",
    "        # Redraw the canvas to reflect the changes\n",
    "        ax.figure.canvas.draw_idle()\n",
    "\n",
    "    @property\n",
    "    def center(self):\n",
    "        return self.get_center()\n",
    "    \n",
    "    @property\n",
    "    def width(self):\n",
    "        return self.get_width()\n",
    "    \n",
    "    @property\n",
    "    def inside_mask_array(self):\n",
    "        return self._inside_mask_array\n",
    "    \n",
    "    @inside_mask_array.setter\n",
    "    def inside_mask_array(self, values):\n",
    "        self._inside_mask_array = values\n",
    "\n",
    "    def contains_event(self, event):\n",
    "        return self.contains(event)[0]\n",
    "    \n",
    "    def remove(self):\n",
    "        self.remove()\n",
    "        self.center_crosshair.remove()\n",
    "        self.ax.figure.canvas.draw_idle()\n",
    "    \n",
    "    def set_center(self, center):\n",
    "        super().set_center(center)\n",
    "        self.center_crosshair.set_offsets(center)\n",
    "        self.ax.figure.canvas.draw_idle()\n",
    "    \n",
    "    def set_size(self, width):\n",
    "        self.set_width(width)\n",
    "        self.set_height(self.height2width_ratio*width)\n",
    "        self.ax.figure.canvas.draw_idle()\n",
    "\n",
    "    def set_edge_style(self, linestyle, linewidth):\n",
    "        self.set_linestyle(linestyle)\n",
    "        self.set_linewidth(linewidth)\n",
    "        self.ax.figure.canvas.draw_idle()\n",
    "\n",
    "    # def set_edge_color(self, color):\n",
    "    #     super().set_edgecolor(color)\n",
    "    #     self.center_crosshair.set_color(color)\n",
    "    #     self.ax.figure.canvas.draw_idle()\n",
    "\n",
    "    # def find_scatter_plot(self):\n",
    "    #     for collection in self.ax.collections:\n",
    "    #         if isinstance(collection, plt.collections.PathCollection) and collection.get_label() != 'crosshair':\n",
    "    #             return collection\n",
    "    #     return None\n",
    "    \n",
    "    # def create_array_colors(self):\n",
    "    #     self.array_colors = None\n",
    "    #     # Find scatter plot in axes (if any) and store it\n",
    "    #     self.scatter = self.find_scatter_plot()\n",
    "    #     if self.scatter is not None:\n",
    "    #         self.array_colors = np.zeros(len(self.scatter.get_array()))\n",
    "    \n",
    "class CustomEllipseSelector:\n",
    "    \"\"\"Class to handle multi ellipse selections\n",
    "\n",
    "    Returns\n",
    "    -------\n",
    "    _type_\n",
    "        _description_\n",
    "    \"\"\"    \n",
    "    SCROLL_STEP = 0.05\n",
    "    MIN_RADIUS = 0.05\n",
    "    def __init__(self, ax, full_data, parent=None):\n",
    "        self.plotter = parent\n",
    "        self.colormap = make_cat10_mod_cmap()\n",
    "        fig.canvas.mpl_connect('button_press_event', self.on_press)\n",
    "        fig.canvas.mpl_connect('scroll_event', self.on_scroll)\n",
    "        fig.canvas.mpl_connect('button_release_event', self.on_release)\n",
    "        fig.canvas.mpl_connect('motion_notify_event', self.on_move)\n",
    "        self.axes = ax\n",
    "        self.ellipses = []  # List to store all ellipses\n",
    "        self.active_ellipse = None\n",
    "        self.pressevent = None\n",
    "        \n",
    "        self.full_data = full_data\n",
    "\n",
    "\n",
    "    def get_active_ellipse(self, event):\n",
    "        \"\"\"Get the ellipse that contains the event, if any\n",
    "\n",
    "        Parameters\n",
    "        ----------\n",
    "        event : _type_\n",
    "            _description_\n",
    "\n",
    "        Returns\n",
    "        -------\n",
    "        _type_\n",
    "            _description_\n",
    "        \"\"\"        \n",
    "        for ellipse in self.ellipses:\n",
    "            if ellipse.contains_event(event):\n",
    "                return ellipse\n",
    "        return None\n",
    "\n",
    "    def on_press(self, event):\n",
    "        \"\"\"Create a ellipse with left click or move an existing ellipse with right click\n",
    "\n",
    "        Parameters\n",
    "        ----------\n",
    "        event : _type_\n",
    "            _description_\n",
    "        \"\"\"        \n",
    "        if event.inaxes != self.axes:\n",
    "            return\n",
    "        if event.button == MouseButton.RIGHT:\n",
    "            self.clear_all_ellipse_selections()\n",
    "        elif event.button == MouseButton.LEFT:\n",
    "            self.clear_all_ellipse_selections()\n",
    "            self.active_ellipse = self.get_active_ellipse(event)\n",
    "            if self.active_ellipse is not None:\n",
    "                self.pressevent = event\n",
    "                # Store the initial press coordinates and the ellipse's initial center\n",
    "                self.initial_press_xdata = event.xdata\n",
    "                self.initial_press_ydata = event.ydata\n",
    "                self.initial_ellipse_center = self.active_ellipse.center\n",
    "                # Add dashed contour to active ellipse\n",
    "                self.active_ellipse.set_edge_style('dashed', 3)\n",
    "                self.axes.figure.canvas.draw_idle()\n",
    "            else:\n",
    "                color = self.colormap(self.plotter.color_idx)\n",
    "                new_ellipse = AspectRatioEllipse(ax=self.axes, \n",
    "                                    xy=(event.xdata, event.ydata), \n",
    "                                    width=0.25,\n",
    "                                    color_idx=self.plotter.color_idx,\n",
    "                                    color=color,\n",
    "                                    alpha=0.5,\n",
    "                                    fill=False,\n",
    "                                    ec=color\n",
    "                                    )\n",
    "                self.ellipses.append(new_ellipse)\n",
    "                self.active_ellipse = self.get_active_ellipse(event)\n",
    "                self.active_ellipse.set_edge_style('dashed', 3)\n",
    "                self.update_hue_inside_ellipse()\n",
    "            \n",
    "\n",
    "    def clear_all_ellipse_selections(self):\n",
    "        \"\"\"Clear all ellipse selections\"\"\"   \n",
    "        for ellipse in self.ellipses:\n",
    "            ellipse.set_edge_style('solid', 2)\n",
    "        self.axes.figure.canvas.draw_idle()\n",
    "\n",
    "    def on_scroll(self, event):\n",
    "        \"\"\"Increase or decrease ellipse radius_x with scroll wheel\n",
    "\n",
    "        Parameters\n",
    "        ----------\n",
    "        event : _type_\n",
    "            _description_\n",
    "        \"\"\"\n",
    "        if event.inaxes != self.axes:\n",
    "            return\n",
    "        if self.active_ellipse is None:\n",
    "            return\n",
    "        if self.active_ellipse.contains_event(event):\n",
    "            increment = self.SCROLL_STEP if event.button == 'up' else -self.SCROLL_STEP\n",
    "            self.active_ellipse.set_size(self.active_ellipse.width + increment)\n",
    "            self.update_hue_inside_ellipse()\n",
    "            if self.active_ellipse.width < self.MIN_RADIUS:\n",
    "                self.active_ellipse.remove()\n",
    "                self.ellipses.remove(self.active_ellipse)\n",
    "                self.active_ellipse = None\n",
    "\n",
    "    def on_move(self, event):\n",
    "        \"\"\"Move ellipse with right click\n",
    "\n",
    "        Parameters\n",
    "        ----------\n",
    "        event : _type_\n",
    "            _description_\n",
    "        \"\"\"\n",
    "        if not hasattr(self, 'pressevent'):\n",
    "            return\n",
    "        # If there is no press event (ellipse was not clicked) or the mouse is not in the press event axes, return\n",
    "        if self.pressevent is None or event.inaxes != self.pressevent.inaxes:\n",
    "            return\n",
    "        # If there is no ellipse drawn or the mouse is not in the ellipse, return\n",
    "        if self.active_ellipse is None:\n",
    "            return\n",
    "        dx = event.xdata - self.initial_press_xdata\n",
    "        dy = event.ydata - self.initial_press_ydata\n",
    "        new_center = (self.initial_ellipse_center[0] + dx, self.initial_ellipse_center[1] + dy)\n",
    "        self.active_ellipse.set_center(new_center)\n",
    "        self.update_hue_inside_ellipse()\n",
    "\n",
    "    def update_hue_inside_ellipse(self):\n",
    "        \"\"\"Update the color of the points inside the ellipse\"\"\"\n",
    "        path = self.active_ellipse.get_path()\n",
    "        affine_transf = self.active_ellipse.get_patch_transform()\n",
    "        # Apply Affine 2D to transform path from axes coordinates to data coordinates\n",
    "        path = affine_transf.transform_path(path)\n",
    "        # Check if points are inside the ellipse\n",
    "        self.ind_mask = path.contains_points(self.full_data)\n",
    "        # Find scatter plot in axes (if any) and store it\n",
    "        scatter = self.find_scatter_plot()\n",
    "        if scatter is None:\n",
    "            return\n",
    "        # Get current scatter color indices array\n",
    "        scatter_array = scatter.get_array()\n",
    "        # If active ellipse has no inside_mask_array yet, create it\n",
    "        if self.active_ellipse.inside_mask_array is None:\n",
    "            self.active_ellipse.inside_mask_array = np.zeros(len(scatter_array)).astype(bool)\n",
    "        \n",
    "        # Store mask of points inside the ellipse\n",
    "        self.active_ellipse.inside_mask_array = self.ind_mask.astype(int)*self.active_ellipse.color_idx\n",
    "        new_scatter_array = self.active_ellipse.inside_mask_array.astype(int)*self.active_ellipse.color_idx\n",
    "        \n",
    "        # Set new positions that became encompassed by ellipse to the current color index\n",
    "        scatter_array[new_scatter_array == self.plotter.color_idx] = self.plotter.color_idx\n",
    "        # Then, set to 0 positions that were previously inside the ellipse and now are not\n",
    "        mask = (scatter_array == self.active_ellipse.color_idx) & (new_scatter_array == 0)\n",
    "        scatter_array[mask] = 0\n",
    "        \n",
    "        # Update scatter colors\n",
    "        scatter.set_array(scatter_array)\n",
    "        self.axes.figure.canvas.draw_idle()\n",
    "\n",
    "    def find_scatter_plot(self):\n",
    "        for collection in self.axes.collections:\n",
    "            if isinstance(collection, PathCollection) and collection.get_label() != 'crosshair':\n",
    "                return collection\n",
    "        return None\n",
    "\n",
    "    def on_release(self, event):\n",
    "        \"\"\"Reset press event\n",
    "\n",
    "        Parameters\n",
    "        ----------\n",
    "        event : _type_\n",
    "            _description_\n",
    "        \"\"\"        \n",
    "        if self.pressevent is not None:\n",
    "            self.pressevent = None\n",
    "\n",
    "class ColorNumber:\n",
    "    def __init__(self):\n",
    "        self.color_idx = 0\n",
    "    def new_color_idx(self, value):\n",
    "        self.color_idx = value\n",
    "        return self.color_idx"
   ]
  },
  {
   "cell_type": "code",
   "execution_count": 3,
   "metadata": {},
   "outputs": [],
   "source": [
    "fig = plt.figure(layout='constrained')\n",
    "axs = fig.subplots(1)\n",
    "\n",
    "N = 1000 \n",
    "x = np.linspace(0, 1, N)\n",
    "y = np.random.gamma(2, size=N) + x\n",
    "\n",
    "\n",
    "from matplotlib.colors import ListedColormap, Normalize\n",
    "my_cmap = make_cat10_mod_cmap(first_color_transparent=False)\n",
    "\n",
    "normalizer = Normalize(vmin=0, vmax=my_cmap.N - 1)\n",
    "\n",
    "sct = axs.scatter(x, y, s=10, cmap=my_cmap, c=np.zeros(N), norm=normalizer)\n",
    "\n",
    "# Class to temporarily mimic the plotter object containing the color spinbox\n",
    "color_number = ColorNumber()\n",
    "\n",
    "axs.axis([0, 1, 0, 0.5])\n",
    "handler = CustomEllipseSelector(axs, full_data=np.array([x, y]).T, parent=color_number)\n",
    "color_number.new_color_idx(1)\n",
    "plt.show()"
   ]
  },
  {
   "cell_type": "code",
   "execution_count": 4,
   "metadata": {},
   "outputs": [
    {
     "data": {
      "text/plain": [
       "2"
      ]
     },
     "execution_count": 4,
     "metadata": {},
     "output_type": "execute_result"
    }
   ],
   "source": [
    "color_number.new_color_idx(2)"
   ]
  },
  {
   "cell_type": "code",
   "execution_count": 6,
   "metadata": {},
   "outputs": [],
   "source": [
    "fig = plt.figure(layout='constrained')\n",
    "axs = fig.subplots(1)"
   ]
  },
  {
   "cell_type": "code",
   "execution_count": 8,
   "metadata": {},
   "outputs": [
    {
     "data": {
      "text/plain": [
       "<Axes.ArtistList of 0 collections>"
      ]
     },
     "execution_count": 8,
     "metadata": {},
     "output_type": "execute_result"
    }
   ],
   "source": [
    "scatter = axs.collections\n",
    "scatter"
   ]
  },
  {
   "cell_type": "code",
   "execution_count": 4,
   "metadata": {},
   "outputs": [
    {
     "data": {
      "text/plain": [
       "2"
      ]
     },
     "execution_count": 4,
     "metadata": {},
     "output_type": "execute_result"
    }
   ],
   "source": [
    "color_number.new_color_idx(2)"
   ]
  },
  {
   "cell_type": "code",
   "execution_count": null,
   "metadata": {},
   "outputs": [],
   "source": []
  },
  {
   "cell_type": "markdown",
   "metadata": {},
   "source": [
    "TODO:\n",
    "- Allow different ellipse axes values (default for FLIM could be 0.5 and 1, but for clusters plotter, true circles should be more interesting) DONE\n",
    "- Turn changing of scatter inside ellipse colors into a method (tobe used everytime the ellipse is drawn, moved, increased or deleted) DONE\n",
    "- Add property to ellipses having array of points inside it (serves as a buffer to be restored in case another ellipse intersects and then is removed/moved)\n",
    "- Consider making Ellipse class derived from MPL Ellipse (to inherith all methods) DONE"
   ]
  },
  {
   "cell_type": "code",
   "execution_count": 50,
   "metadata": {},
   "outputs": [
    {
     "data": {
      "text/plain": [
       "array([[0.00000000e+00, 1.08075025e+00],\n",
       "       [1.00100100e-03, 1.54929075e+00],\n",
       "       [2.00200200e-03, 2.45170019e+00],\n",
       "       ...,\n",
       "       [9.97997998e-01, 4.28117683e+00],\n",
       "       [9.98998999e-01, 1.92857693e+00],\n",
       "       [1.00000000e+00, 2.27486708e+00]])"
      ]
     },
     "execution_count": 50,
     "metadata": {},
     "output_type": "execute_result"
    }
   ],
   "source": [
    "np.array([x, y]).T"
   ]
  },
  {
   "cell_type": "code",
   "execution_count": 40,
   "metadata": {},
   "outputs": [
    {
     "data": {
      "text/plain": [
       "256"
      ]
     },
     "execution_count": 40,
     "metadata": {},
     "output_type": "execute_result"
    }
   ],
   "source": [
    "from matplotlib.colors import ListedColormap, Normalize\n",
    "my_cmap = make_cat10_mod_cmap(first_color_transparent=False)\n",
    "# Get length of my_cmap\n",
    "my_cmap.N"
   ]
  },
  {
   "cell_type": "code",
   "execution_count": null,
   "metadata": {},
   "outputs": [],
   "source": []
  }
 ],
 "metadata": {
  "kernelspec": {
   "display_name": "napari-clusters-plotter-dev",
   "language": "python",
   "name": "python3"
  },
  "language_info": {
   "codemirror_mode": {
    "name": "ipython",
    "version": 3
   },
   "file_extension": ".py",
   "mimetype": "text/x-python",
   "name": "python",
   "nbconvert_exporter": "python",
   "pygments_lexer": "ipython3",
   "version": "3.9.16"
  },
  "orig_nbformat": 4
 },
 "nbformat": 4,
 "nbformat_minor": 2
}
