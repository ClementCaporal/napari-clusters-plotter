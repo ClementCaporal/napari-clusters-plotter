{
 "cells": [
  {
   "cell_type": "code",
   "execution_count": 71,
   "id": "c0134ca8-858c-4f17-8738-398543a05f2f",
   "metadata": {
    "tags": []
   },
   "outputs": [],
   "source": [
    "import napari\n",
    "from napari.utils import nbscreenshot\n",
    "import numpy as np\n",
    "import pandas as pd\n",
    "from napari_clusters_plotter._plotter import PlotterWidget"
   ]
  },
  {
   "cell_type": "markdown",
   "id": "4948eda0-81e1-4e1a-9fb4-376d4b58b0a3",
   "metadata": {},
   "source": [
    "## Create some points data"
   ]
  },
  {
   "cell_type": "code",
   "execution_count": 16,
   "id": "876db49d-704a-4444-ab48-d7d6fe077b76",
   "metadata": {
    "tags": []
   },
   "outputs": [],
   "source": [
    "x_coords = np.random.randint(low=0, high=10, size=50)\n",
    "y_coords = np.random.randint(low=0, high=10, size=50)\n",
    "z_coords = np.linspace(start=0, stop=50)\n",
    "\n",
    "points_data = np.array([z_coords, y_coords, x_coords]).T"
   ]
  },
  {
   "cell_type": "markdown",
   "id": "d810ce3e-562c-4ac4-9325-d99dadf5ced8",
   "metadata": {},
   "source": [
    "## Create some features"
   ]
  },
  {
   "cell_type": "code",
   "execution_count": 58,
   "id": "eb236f54-fc61-42ca-a99c-1d9e517253e4",
   "metadata": {
    "tags": []
   },
   "outputs": [],
   "source": [
    "# Made-up features\n",
    "temperature = z_coords**2\n",
    "pressure = np.exp(z_coords/10)\n",
    "iron_melts = temperature > 1538\n",
    "\n",
    "features = {'x_coords': x_coords,\n",
    "            'y_coords': y_coords,\n",
    "            'z_coords': z_coords,\n",
    "            'temperature': temperature,\n",
    "            'pressure': pressure,\n",
    "            'iron_melts': iron_melts}\n",
    "features = pd.DataFrame(features)"
   ]
  },
  {
   "cell_type": "markdown",
   "id": "27817231-006d-4c62-8d4d-4475b3ad1c80",
   "metadata": {},
   "source": [
    "## Add points to viewer"
   ]
  },
  {
   "cell_type": "code",
   "execution_count": 60,
   "id": "a2d46b8e-2d97-427a-93cb-33bbe7bae054",
   "metadata": {
    "tags": []
   },
   "outputs": [
    {
     "name": "stderr",
     "output_type": "stream",
     "text": [
      "WARNING: QWindowsWindow::setGeometry: Unable to set geometry 1706x1106-2476+642 (frame: 1728x1162-2487+597) on QWidgetWindow/\"_QtMainWindowClassWindow\" on \"\\\\.\\DISPLAY4\". Resulting geometry: 1022x1108-2480+616 (frame: 1044x1164-2491+571) margins: 11, 45, 11, 11 minimum size: 374x554 MINMAXINFO maxSize=0,0 maxpos=0,0 mintrack=770,1164 maxtrack=0,0)\n"
     ]
    }
   ],
   "source": [
    "viewer = napari.Viewer()\n",
    "viewer.add_points(points_data, size=1, features = features)\n",
    "viewer.dims.ndisplay = 3 # turn on 3D view"
   ]
  },
  {
   "cell_type": "markdown",
   "id": "941dd8e4-0bc8-4e29-941a-ad9654dbfbc7",
   "metadata": {},
   "source": [
    "## Other examples of display based on features"
   ]
  },
  {
   "cell_type": "markdown",
   "id": "534e07a5-02c4-47e8-ba98-628f25ac2a7c",
   "metadata": {},
   "source": [
    "Add points layer with feature encoded as a colormap"
   ]
  },
  {
   "cell_type": "code",
   "execution_count": 61,
   "id": "969973b6-efde-4ff4-b788-9b7bebe236a1",
   "metadata": {
    "tags": []
   },
   "outputs": [
    {
     "data": {
      "text/plain": [
       "<Points layer 'points_data [1]' at 0x27901e01970>"
      ]
     },
     "execution_count": 61,
     "metadata": {},
     "output_type": "execute_result"
    }
   ],
   "source": [
    "viewer.add_points(points_data, size=1, features = features, face_colormap='plasma', face_color='temperature')"
   ]
  },
  {
   "cell_type": "markdown",
   "id": "0441c96b-8f2a-4ab0-bd06-00c7c3b2ce2c",
   "metadata": {},
   "source": [
    "Add points layer with category encoded as a colorcycle"
   ]
  },
  {
   "cell_type": "code",
   "execution_count": 64,
   "id": "34070abe-61e0-4a69-832b-c7bb569e74fc",
   "metadata": {
    "tags": []
   },
   "outputs": [
    {
     "data": {
      "text/plain": [
       "<Points layer 'points_data [2]' at 0x27902097be0>"
      ]
     },
     "execution_count": 64,
     "metadata": {},
     "output_type": "execute_result"
    }
   ],
   "source": [
    "viewer.add_points(points_data, size=1, features = features, face_color_cycle=['cyan', 'orange'], face_color='iron_melts')"
   ]
  },
  {
   "cell_type": "markdown",
   "id": "581f495e-28c8-4bcd-9100-61b8f34fb842",
   "metadata": {},
   "source": [
    "## Open clusters-plotter Plotter"
   ]
  },
  {
   "cell_type": "code",
   "execution_count": 70,
   "id": "08e81280-7271-4477-895e-c8889bfc2b34",
   "metadata": {
    "tags": []
   },
   "outputs": [
    {
     "data": {
      "text/plain": [
       "<napari._qt.widgets.qt_viewer_dock_widget.QtViewerDockWidget at 0x2790a3b11f0>"
      ]
     },
     "execution_count": 70,
     "metadata": {},
     "output_type": "execute_result"
    }
   ],
   "source": [
    "widget = PlotterWidget(viewer)\n",
    "viewer.window.add_dock_widget(widget)\n",
    "nbscreenshot"
   ]
  },
  {
   "cell_type": "code",
   "execution_count": null,
   "id": "68545e5e-1d33-4ed7-82c7-e8c9da431535",
   "metadata": {},
   "outputs": [],
   "source": [
    "Plotter should be able to read points data and plot them."
   ]
  }
 ],
 "metadata": {
  "kernelspec": {
   "display_name": "Python 3 (ipykernel)",
   "language": "python",
   "name": "python3"
  },
  "language_info": {
   "codemirror_mode": {
    "name": "ipython",
    "version": 3
   },
   "file_extension": ".py",
   "mimetype": "text/x-python",
   "name": "python",
   "nbconvert_exporter": "python",
   "pygments_lexer": "ipython3",
   "version": "3.9.16"
  }
 },
 "nbformat": 4,
 "nbformat_minor": 5
}
