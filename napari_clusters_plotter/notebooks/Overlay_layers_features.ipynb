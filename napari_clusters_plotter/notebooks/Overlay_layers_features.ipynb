{
 "cells": [
  {
   "cell_type": "code",
   "execution_count": 1,
   "metadata": {},
   "outputs": [],
   "source": [
    "import napari\n",
    "from skimage import data\n",
    "import numpy as np\n",
    "from skimage import measure, morphology, filters\n",
    "import pandas as pd"
   ]
  },
  {
   "cell_type": "code",
   "execution_count": 2,
   "metadata": {},
   "outputs": [],
   "source": [
    "image = data.human_mitosis()\n",
    "nrows, ncols = image.shape"
   ]
  },
  {
   "cell_type": "code",
   "execution_count": null,
   "metadata": {},
   "outputs": [],
   "source": []
  },
  {
   "cell_type": "code",
   "execution_count": 3,
   "metadata": {},
   "outputs": [],
   "source": [
    "image1 = image[:nrows//2, :ncols//2]\n",
    "image2 = image[:nrows//2, ncols//2:]\n",
    "image3 = image[nrows//2:, :ncols//2]\n",
    "image4 = image[nrows//2:, ncols//2:]\n",
    "image_list = [image1, image2, image3, image4]"
   ]
  },
  {
   "cell_type": "code",
   "execution_count": 4,
   "metadata": {},
   "outputs": [],
   "source": [
    "labels_list = []\n",
    "for image in image_list:\n",
    "    filtered = filters.gaussian(image, 1)\n",
    "    th = filters.threshold_otsu(filtered)\n",
    "    binary = filtered > th\n",
    "    labels = measure.label(binary)\n",
    "    labels_list.append(labels)"
   ]
  },
  {
   "cell_type": "code",
   "execution_count": 5,
   "metadata": {},
   "outputs": [],
   "source": [
    "tables_list = []\n",
    "for labels, image, i in zip(labels_list, image_list, range(len(image_list))):\n",
    "    table = pd.DataFrame(measure.regionprops_table(labels, image, properties=['label', \n",
    "                                                                                'area', \n",
    "                                                                                'axis_major_length', \n",
    "                                                                                'axis_major_length', \n",
    "                                                                                'feret_diameter_max', \n",
    "                                                                                'orientation', \n",
    "                                                                                'solidity', \n",
    "                                                                                'eccentricity', \n",
    "                                                                                'intensity_mean',\n",
    "    ]))\n",
    "    table['frame'] = i\n",
    "    tables_list.append(table)"
   ]
  },
  {
   "cell_type": "code",
   "execution_count": 6,
   "metadata": {},
   "outputs": [],
   "source": [
    "master_table = pd.concat(tables_list)"
   ]
  },
  {
   "cell_type": "code",
   "execution_count": 7,
   "metadata": {},
   "outputs": [],
   "source": [
    "labels_stack = np.stack(labels_list)"
   ]
  },
  {
   "cell_type": "code",
   "execution_count": 8,
   "metadata": {},
   "outputs": [
    {
     "data": {
      "text/plain": [
       "(4, 256, 256)"
      ]
     },
     "execution_count": 8,
     "metadata": {},
     "output_type": "execute_result"
    }
   ],
   "source": [
    "labels_stack.shape"
   ]
  },
  {
   "cell_type": "code",
   "execution_count": 9,
   "metadata": {},
   "outputs": [
    {
     "data": {
      "text/plain": [
       "<Labels layer 'labels_stack' at 0x225f8a63a30>"
      ]
     },
     "execution_count": 9,
     "metadata": {},
     "output_type": "execute_result"
    }
   ],
   "source": [
    "viewer = napari.Viewer()\n",
    "viewer.add_labels(labels_stack, features=master_table)"
   ]
  },
  {
   "cell_type": "code",
   "execution_count": null,
   "metadata": {},
   "outputs": [],
   "source": []
  }
 ],
 "metadata": {
  "kernelspec": {
   "display_name": "napari-clusters-plotter-dev",
   "language": "python",
   "name": "python3"
  },
  "language_info": {
   "codemirror_mode": {
    "name": "ipython",
    "version": 3
   },
   "file_extension": ".py",
   "mimetype": "text/x-python",
   "name": "python",
   "nbconvert_exporter": "python",
   "pygments_lexer": "ipython3",
   "version": "3.9.16"
  },
  "orig_nbformat": 4,
  "vscode": {
   "interpreter": {
    "hash": "388d56522165585dc5b00e05942f3d15549ef1736dcb37908e1982ccf9e3a4c9"
   }
  }
 },
 "nbformat": 4,
 "nbformat_minor": 2
}
