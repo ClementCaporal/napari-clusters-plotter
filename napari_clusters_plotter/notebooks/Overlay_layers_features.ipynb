{
 "cells": [
  {
   "cell_type": "code",
   "execution_count": 1,
   "metadata": {},
   "outputs": [],
   "source": [
    "import napari\n",
    "from skimage import data\n",
    "import numpy as np\n",
    "from skimage import measure, morphology, filters\n",
    "import pandas as pd"
   ]
  },
  {
   "cell_type": "code",
   "execution_count": 2,
   "metadata": {},
   "outputs": [],
   "source": [
    "image = data.human_mitosis()\n",
    "nrows, ncols = image.shape"
   ]
  },
  {
   "cell_type": "code",
   "execution_count": null,
   "metadata": {},
   "outputs": [],
   "source": []
  },
  {
   "cell_type": "code",
   "execution_count": 3,
   "metadata": {},
   "outputs": [],
   "source": [
    "image1 = image[:nrows//2, :ncols//2]\n",
    "image2 = image[:nrows//2, ncols//2:]\n",
    "image3 = image[nrows//2:, :ncols//2]\n",
    "image4 = image[nrows//2:, ncols//2:]\n",
    "image_list = [image1, image2, image3, image4]"
   ]
  },
  {
   "cell_type": "code",
   "execution_count": 4,
   "metadata": {},
   "outputs": [],
   "source": [
    "labels_list = []\n",
    "for image in image_list:\n",
    "    filtered = filters.gaussian(image, 1)\n",
    "    th = filters.threshold_otsu(filtered)\n",
    "    binary = filtered > th\n",
    "    labels = measure.label(binary)\n",
    "    labels_list.append(labels)"
   ]
  },
  {
   "cell_type": "code",
   "execution_count": 5,
   "metadata": {},
   "outputs": [],
   "source": [
    "tables_list = []\n",
    "for labels, image, i in zip(labels_list, image_list, range(len(image_list))):\n",
    "    table = pd.DataFrame(measure.regionprops_table(labels, image, properties=['label', \n",
    "                                                                                'area', \n",
    "                                                                                'axis_major_length', \n",
    "                                                                                'axis_major_length', \n",
    "                                                                                'feret_diameter_max', \n",
    "                                                                                'orientation', \n",
    "                                                                                'solidity', \n",
    "                                                                                'eccentricity', \n",
    "                                                                                'intensity_mean',\n",
    "    ]))\n",
    "    table['frame'] = i+1\n",
    "    tables_list.append(table)"
   ]
  },
  {
   "cell_type": "code",
   "execution_count": 6,
   "metadata": {},
   "outputs": [],
   "source": [
    "master_table = pd.concat(tables_list)"
   ]
  },
  {
   "cell_type": "code",
   "execution_count": 7,
   "metadata": {},
   "outputs": [],
   "source": [
    "labels_stack = np.stack(labels_list)"
   ]
  },
  {
   "cell_type": "code",
   "execution_count": 8,
   "metadata": {},
   "outputs": [
    {
     "data": {
      "text/plain": [
       "(4, 256, 256)"
      ]
     },
     "execution_count": 8,
     "metadata": {},
     "output_type": "execute_result"
    }
   ],
   "source": [
    "labels_stack.shape"
   ]
  },
  {
   "cell_type": "code",
   "execution_count": 9,
   "metadata": {},
   "outputs": [
    {
     "name": "stderr",
     "output_type": "stream",
     "text": [
      "WARNING: QWindowsWindow::setGeometry: Unable to set geometry 5760x3099-11517+78 (frame: 5792x3187-11533+6) on QWidgetWindow/\"_QtMainWindowClassWindow\" on \"\\\\.\\DISPLAY1\". Resulting geometry: 3844x2108-11517+78 (frame: 3876x2196-11533+6) margins: 16, 72, 16, 16 minimum size: 374x553 MINMAXINFO maxSize=0,0 maxpos=0,0 mintrack=1154,1747 maxtrack=0,0)\n"
     ]
    },
    {
     "data": {
      "text/plain": [
       "<Labels layer 'labels_stack' at 0x254c1751e20>"
      ]
     },
     "execution_count": 9,
     "metadata": {},
     "output_type": "execute_result"
    },
    {
     "name": "stderr",
     "output_type": "stream",
     "text": [
      "WARNING: QWindowsWindow::setGeometry: Unable to set geometry 4224x2004+0+57 (frame: 4256x2092-16-15) on QWidgetWindow/\"_QtMainWindowClassWindow\" on \"\\\\.\\DISPLAY1\". Resulting geometry: 3840x2004+0+56 (frame: 3872x2092-16-16) margins: 16, 72, 16, 16 minimum size: 1408x554 MINMAXINFO maxSize=0,0 maxpos=0,0 mintrack=4256,1750 maxtrack=0,0)\n"
     ]
    }
   ],
   "source": [
    "viewer = napari.Viewer()\n",
    "viewer.add_labels(labels_stack, features=master_table)"
   ]
  },
  {
   "cell_type": "code",
   "execution_count": 10,
   "metadata": {},
   "outputs": [
    {
     "data": {
      "text/html": [
       "<div>\n",
       "<style scoped>\n",
       "    .dataframe tbody tr th:only-of-type {\n",
       "        vertical-align: middle;\n",
       "    }\n",
       "\n",
       "    .dataframe tbody tr th {\n",
       "        vertical-align: top;\n",
       "    }\n",
       "\n",
       "    .dataframe thead th {\n",
       "        text-align: right;\n",
       "    }\n",
       "</style>\n",
       "<table border=\"1\" class=\"dataframe\">\n",
       "  <thead>\n",
       "    <tr style=\"text-align: right;\">\n",
       "      <th></th>\n",
       "      <th>label</th>\n",
       "      <th>area</th>\n",
       "      <th>axis_major_length</th>\n",
       "      <th>feret_diameter_max</th>\n",
       "      <th>orientation</th>\n",
       "      <th>solidity</th>\n",
       "      <th>eccentricity</th>\n",
       "      <th>intensity_mean</th>\n",
       "      <th>frame</th>\n",
       "    </tr>\n",
       "  </thead>\n",
       "  <tbody>\n",
       "    <tr>\n",
       "      <th>0</th>\n",
       "      <td>1</td>\n",
       "      <td>64</td>\n",
       "      <td>10.862780</td>\n",
       "      <td>10.770330</td>\n",
       "      <td>1.570796</td>\n",
       "      <td>1.000000</td>\n",
       "      <td>0.713074</td>\n",
       "      <td>50.250000</td>\n",
       "      <td>1</td>\n",
       "    </tr>\n",
       "    <tr>\n",
       "      <th>1</th>\n",
       "      <td>2</td>\n",
       "      <td>73</td>\n",
       "      <td>12.568236</td>\n",
       "      <td>13.000000</td>\n",
       "      <td>0.507038</td>\n",
       "      <td>0.935897</td>\n",
       "      <td>0.808680</td>\n",
       "      <td>59.054795</td>\n",
       "      <td>1</td>\n",
       "    </tr>\n",
       "    <tr>\n",
       "      <th>2</th>\n",
       "      <td>3</td>\n",
       "      <td>77</td>\n",
       "      <td>11.542712</td>\n",
       "      <td>11.704700</td>\n",
       "      <td>0.041654</td>\n",
       "      <td>0.987179</td>\n",
       "      <td>0.680056</td>\n",
       "      <td>52.558442</td>\n",
       "      <td>1</td>\n",
       "    </tr>\n",
       "    <tr>\n",
       "      <th>3</th>\n",
       "      <td>4</td>\n",
       "      <td>86</td>\n",
       "      <td>11.624222</td>\n",
       "      <td>12.083046</td>\n",
       "      <td>-1.391353</td>\n",
       "      <td>0.945055</td>\n",
       "      <td>0.570413</td>\n",
       "      <td>47.790698</td>\n",
       "      <td>1</td>\n",
       "    </tr>\n",
       "    <tr>\n",
       "      <th>4</th>\n",
       "      <td>5</td>\n",
       "      <td>137</td>\n",
       "      <td>13.928775</td>\n",
       "      <td>14.866069</td>\n",
       "      <td>1.338121</td>\n",
       "      <td>0.951389</td>\n",
       "      <td>0.435103</td>\n",
       "      <td>56.416058</td>\n",
       "      <td>1</td>\n",
       "    </tr>\n",
       "    <tr>\n",
       "      <th>...</th>\n",
       "      <td>...</td>\n",
       "      <td>...</td>\n",
       "      <td>...</td>\n",
       "      <td>...</td>\n",
       "      <td>...</td>\n",
       "      <td>...</td>\n",
       "      <td>...</td>\n",
       "      <td>...</td>\n",
       "      <td>...</td>\n",
       "    </tr>\n",
       "    <tr>\n",
       "      <th>124</th>\n",
       "      <td>125</td>\n",
       "      <td>94</td>\n",
       "      <td>12.501291</td>\n",
       "      <td>13.000000</td>\n",
       "      <td>1.429126</td>\n",
       "      <td>0.969072</td>\n",
       "      <td>0.633197</td>\n",
       "      <td>75.191489</td>\n",
       "      <td>4</td>\n",
       "    </tr>\n",
       "    <tr>\n",
       "      <th>125</th>\n",
       "      <td>126</td>\n",
       "      <td>66</td>\n",
       "      <td>11.105378</td>\n",
       "      <td>12.083046</td>\n",
       "      <td>1.361233</td>\n",
       "      <td>0.916667</td>\n",
       "      <td>0.699711</td>\n",
       "      <td>81.575758</td>\n",
       "      <td>4</td>\n",
       "    </tr>\n",
       "    <tr>\n",
       "      <th>126</th>\n",
       "      <td>127</td>\n",
       "      <td>46</td>\n",
       "      <td>12.025488</td>\n",
       "      <td>12.369317</td>\n",
       "      <td>-1.375409</td>\n",
       "      <td>0.920000</td>\n",
       "      <td>0.903905</td>\n",
       "      <td>73.630435</td>\n",
       "      <td>4</td>\n",
       "    </tr>\n",
       "    <tr>\n",
       "      <th>127</th>\n",
       "      <td>128</td>\n",
       "      <td>41</td>\n",
       "      <td>10.016467</td>\n",
       "      <td>10.198039</td>\n",
       "      <td>1.551212</td>\n",
       "      <td>0.953488</td>\n",
       "      <td>0.843950</td>\n",
       "      <td>57.243902</td>\n",
       "      <td>4</td>\n",
       "    </tr>\n",
       "    <tr>\n",
       "      <th>128</th>\n",
       "      <td>129</td>\n",
       "      <td>3</td>\n",
       "      <td>3.265986</td>\n",
       "      <td>3.000000</td>\n",
       "      <td>0.000000</td>\n",
       "      <td>1.000000</td>\n",
       "      <td>1.000000</td>\n",
       "      <td>56.666667</td>\n",
       "      <td>4</td>\n",
       "    </tr>\n",
       "  </tbody>\n",
       "</table>\n",
       "<p>287 rows × 9 columns</p>\n",
       "</div>"
      ],
      "text/plain": [
       "     label  area  axis_major_length  feret_diameter_max  orientation  \\\n",
       "0        1    64          10.862780           10.770330     1.570796   \n",
       "1        2    73          12.568236           13.000000     0.507038   \n",
       "2        3    77          11.542712           11.704700     0.041654   \n",
       "3        4    86          11.624222           12.083046    -1.391353   \n",
       "4        5   137          13.928775           14.866069     1.338121   \n",
       "..     ...   ...                ...                 ...          ...   \n",
       "124    125    94          12.501291           13.000000     1.429126   \n",
       "125    126    66          11.105378           12.083046     1.361233   \n",
       "126    127    46          12.025488           12.369317    -1.375409   \n",
       "127    128    41          10.016467           10.198039     1.551212   \n",
       "128    129     3           3.265986            3.000000     0.000000   \n",
       "\n",
       "     solidity  eccentricity  intensity_mean  frame  \n",
       "0    1.000000      0.713074       50.250000      1  \n",
       "1    0.935897      0.808680       59.054795      1  \n",
       "2    0.987179      0.680056       52.558442      1  \n",
       "3    0.945055      0.570413       47.790698      1  \n",
       "4    0.951389      0.435103       56.416058      1  \n",
       "..        ...           ...             ...    ...  \n",
       "124  0.969072      0.633197       75.191489      4  \n",
       "125  0.916667      0.699711       81.575758      4  \n",
       "126  0.920000      0.903905       73.630435      4  \n",
       "127  0.953488      0.843950       57.243902      4  \n",
       "128  1.000000      1.000000       56.666667      4  \n",
       "\n",
       "[287 rows x 9 columns]"
      ]
     },
     "execution_count": 10,
     "metadata": {},
     "output_type": "execute_result"
    }
   ],
   "source": [
    "master_table"
   ]
  },
  {
   "cell_type": "code",
   "execution_count": null,
   "metadata": {},
   "outputs": [],
   "source": []
  }
 ],
 "metadata": {
  "kernelspec": {
   "display_name": "napari-clusters-plotter-dev",
   "language": "python",
   "name": "python3"
  },
  "language_info": {
   "codemirror_mode": {
    "name": "ipython",
    "version": 3
   },
   "file_extension": ".py",
   "mimetype": "text/x-python",
   "name": "python",
   "nbconvert_exporter": "python",
   "pygments_lexer": "ipython3",
   "version": "3.9.16"
  },
  "orig_nbformat": 4,
  "vscode": {
   "interpreter": {
    "hash": "388d56522165585dc5b00e05942f3d15549ef1736dcb37908e1982ccf9e3a4c9"
   }
  }
 },
 "nbformat": 4,
 "nbformat_minor": 2
}
